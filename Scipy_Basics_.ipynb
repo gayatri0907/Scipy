{
  "metadata": {
    "language_info": {
      "codemirror_mode": {
        "name": "python",
        "version": 3
      },
      "file_extension": ".py",
      "mimetype": "text/x-python",
      "name": "python",
      "nbconvert_exporter": "python",
      "pygments_lexer": "ipython3",
      "version": "3.8"
    },
    "kernelspec": {
      "name": "python",
      "display_name": "Pyolite",
      "language": "python"
    }
  },
  "nbformat_minor": 4,
  "nbformat": 4,
  "cells": [
    {
      "cell_type": "code",
      "source": "#Scipy subpackage Integration *General Integration*\nfrom scipy.integrate import quad",
      "metadata": {
        "trusted": true
      },
      "execution_count": 16,
      "outputs": []
    },
    {
      "cell_type": "code",
      "source": "def integratefun(x):\n    return x",
      "metadata": {
        "trusted": true
      },
      "execution_count": 2,
      "outputs": []
    },
    {
      "cell_type": "code",
      "source": "#perform quad integration for function x for limits 0 and 1\nquad(integratefun,0,1)",
      "metadata": {
        "trusted": true
      },
      "execution_count": 11,
      "outputs": [
        {
          "execution_count": 11,
          "output_type": "execute_result",
          "data": {
            "text/plain": "(0.5, 5.551115123125783e-15)"
          },
          "metadata": {}
        }
      ]
    },
    {
      "cell_type": "code",
      "source": "# define function for ax+b\ndef integratefunction(a,b,x):\n    return x*a+b\n    ",
      "metadata": {
        "trusted": true
      },
      "execution_count": 15,
      "outputs": []
    },
    {
      "cell_type": "code",
      "source": "a=3\nb=2",
      "metadata": {
        "trusted": true
      },
      "execution_count": 13,
      "outputs": []
    },
    {
      "cell_type": "code",
      "source": "quad(integratefunction,0,1,args=(a,b))",
      "metadata": {
        "trusted": true
      },
      "execution_count": 14,
      "outputs": [
        {
          "execution_count": 14,
          "output_type": "execute_result",
          "data": {
            "text/plain": "(4.0, 4.440892098500626e-14)"
          },
          "metadata": {}
        }
      ]
    },
    {
      "cell_type": "code",
      "source": "#Scipy subpackage Integration *Multiple Integration*\nimport scipy.integrate  as integrate",
      "metadata": {
        "trusted": true
      },
      "execution_count": 20,
      "outputs": []
    },
    {
      "cell_type": "code",
      "source": "def f(x,y):\n    return x+y\nintegrate.dblquad(f,0,1,lambda x: 0,lambda x: 2)",
      "metadata": {
        "trusted": true
      },
      "execution_count": 21,
      "outputs": [
        {
          "execution_count": 21,
          "output_type": "execute_result",
          "data": {
            "text/plain": "(7.105427357601005e-15, 5.0945755674135735e-14)"
          },
          "metadata": {}
        }
      ]
    },
    {
      "cell_type": "code",
      "source": "#Scipy subpackage Optimization\nimport numpy as np\nfrom scipy import optimize",
      "metadata": {
        "trusted": true
      },
      "execution_count": 22,
      "outputs": []
    },
    {
      "cell_type": "code",
      "source": "def f(x):\n    return x**2 + 5*np.sin(x)",
      "metadata": {
        "trusted": true
      },
      "execution_count": 23,
      "outputs": []
    },
    {
      "cell_type": "code",
      "source": "minval=optimize.minimize(f,x0=2,method='bfgs',options={'disp':True})",
      "metadata": {
        "trusted": true
      },
      "execution_count": 24,
      "outputs": [
        {
          "name": "stdout",
          "text": "Optimization terminated successfully.\n         Current function value: -3.246394\n         Iterations: 5\n         Function evaluations: 18\n         Gradient evaluations: 9\n",
          "output_type": "stream"
        }
      ]
    },
    {
      "cell_type": "code",
      "source": "minvalwithoutopt=optimize.minimize(f,x0=2,method='bfgs')",
      "metadata": {
        "trusted": true
      },
      "execution_count": 25,
      "outputs": []
    },
    {
      "cell_type": "code",
      "source": "minvalwithoutopt",
      "metadata": {
        "trusted": true
      },
      "execution_count": 26,
      "outputs": [
        {
          "execution_count": 26,
          "output_type": "execute_result",
          "data": {
            "text/plain": "      fun: -3.2463942726915196\n hess_inv: array([[0.15445831]])\n      jac: array([-4.47034836e-07])\n  message: 'Optimization terminated successfully.'\n     nfev: 18\n      nit: 5\n     njev: 9\n   status: 0\n  success: True\n        x: array([-1.11051058])"
          },
          "metadata": {}
        }
      ]
    },
    {
      "cell_type": "code",
      "source": "#Optimize root of vector function\nimport numpy as np\nfrom scipy.optimize import root\ndef rootfunc(x):\n    return x + 3.5 * np.cos(x)",
      "metadata": {
        "trusted": true
      },
      "execution_count": 28,
      "outputs": []
    },
    {
      "cell_type": "code",
      "source": "rootval=root(rootfunc,0.3)",
      "metadata": {
        "trusted": true
      },
      "execution_count": 29,
      "outputs": []
    },
    {
      "cell_type": "code",
      "source": "rootval",
      "metadata": {
        "trusted": true
      },
      "execution_count": 30,
      "outputs": [
        {
          "execution_count": 30,
          "output_type": "execute_result",
          "data": {
            "text/plain": "    fjac: array([[-1.]])\n     fun: array([0.])\n message: 'The solution converged.'\n    nfev: 14\n     qtf: array([-8.32889313e-13])\n       r: array([-4.28198145])\n  status: 1\n success: True\n       x: array([-1.21597614])"
          },
          "metadata": {}
        }
      ]
    },
    {
      "cell_type": "code",
      "source": "#Scipy subpackage Linear Algebra\n# 1 Inverse of matrix\nimport numpy as np\nfrom scipy import linalg\nmatrix=np.array([[10,6],[2,7]])\nmatrix",
      "metadata": {
        "trusted": true
      },
      "execution_count": 31,
      "outputs": [
        {
          "execution_count": 31,
          "output_type": "execute_result",
          "data": {
            "text/plain": "array([[10,  6],\n       [ 2,  7]])"
          },
          "metadata": {}
        }
      ]
    },
    {
      "cell_type": "code",
      "source": "type(matrix)",
      "metadata": {
        "trusted": true
      },
      "execution_count": 32,
      "outputs": [
        {
          "execution_count": 32,
          "output_type": "execute_result",
          "data": {
            "text/plain": "numpy.ndarray"
          },
          "metadata": {}
        }
      ]
    },
    {
      "cell_type": "code",
      "source": "linalg.inv(matrix)",
      "metadata": {
        "trusted": true
      },
      "execution_count": 33,
      "outputs": [
        {
          "execution_count": 33,
          "output_type": "execute_result",
          "data": {
            "text/plain": "array([[ 0.12068966, -0.10344828],\n       [-0.03448276,  0.17241379]])"
          },
          "metadata": {}
        }
      ]
    },
    {
      "cell_type": "code",
      "source": "# Finding determinant of matrix\nimport numpy as np\nfrom scipy import linalg\nmatrix=np.array([[4,9],[3,5]])\nmatrix",
      "metadata": {
        "trusted": true
      },
      "execution_count": 34,
      "outputs": [
        {
          "execution_count": 34,
          "output_type": "execute_result",
          "data": {
            "text/plain": "array([[4, 9],\n       [3, 5]])"
          },
          "metadata": {}
        }
      ]
    },
    {
      "cell_type": "code",
      "source": "linalg.det(matrix)",
      "metadata": {
        "trusted": true
      },
      "execution_count": 35,
      "outputs": [
        {
          "execution_count": 35,
          "output_type": "execute_result",
          "data": {
            "text/plain": "-6.999999999999999"
          },
          "metadata": {}
        }
      ]
    },
    {
      "cell_type": "code",
      "source": "# Solve Linear Systems\nimport numpy as np\nfrom scipy import linalg\n",
      "metadata": {
        "trusted": true
      },
      "execution_count": 36,
      "outputs": []
    },
    {
      "cell_type": "code",
      "source": "numarr=np.array([[2,3,1],[-1,5,4],[3,2,9]])",
      "metadata": {
        "trusted": true
      },
      "execution_count": 37,
      "outputs": []
    },
    {
      "cell_type": "code",
      "source": "numarrval=np.array([21,9,6])",
      "metadata": {
        "trusted": true
      },
      "execution_count": 38,
      "outputs": []
    },
    {
      "cell_type": "code",
      "source": "linalg.solve(numarr,numarrval)",
      "metadata": {
        "trusted": true
      },
      "execution_count": 39,
      "outputs": [
        {
          "execution_count": 39,
          "output_type": "execute_result",
          "data": {
            "text/plain": "array([ 4.95,  4.35, -1.95])"
          },
          "metadata": {}
        }
      ]
    },
    {
      "cell_type": "code",
      "source": "# Single value decomposition\nimport numpy as np\nfrom scipy import linalg",
      "metadata": {
        "trusted": true
      },
      "execution_count": 40,
      "outputs": []
    },
    {
      "cell_type": "code",
      "source": "numSVDarr=np.array([[3,5,1],[9,5,7]])",
      "metadata": {
        "trusted": true
      },
      "execution_count": 41,
      "outputs": []
    },
    {
      "cell_type": "code",
      "source": "linalg.svd(numSVDarr)",
      "metadata": {
        "trusted": true
      },
      "execution_count": 43,
      "outputs": [
        {
          "execution_count": 43,
          "output_type": "execute_result",
          "data": {
            "text/plain": "(array([[-0.37879831, -0.92547925],\n        [-0.92547925,  0.37879831]]),\n array([13.38464336,  3.29413449]),\n array([[-0.7072066 , -0.4872291 , -0.51231496],\n        [ 0.19208294, -0.82977932,  0.52399467],\n        [-0.68041382,  0.27216553,  0.68041382]]))"
          },
          "metadata": {}
        }
      ]
    },
    {
      "cell_type": "code",
      "source": "#Scipy subpackage Statistics\nfrom scipy.stats import norm\n",
      "metadata": {
        "trusted": true
      },
      "execution_count": 44,
      "outputs": []
    },
    {
      "cell_type": "code",
      "source": "#rvs for random variables\nnorm.rvs(loc=0,scale=1,size=10)",
      "metadata": {
        "trusted": true
      },
      "execution_count": 50,
      "outputs": [
        {
          "execution_count": 50,
          "output_type": "execute_result",
          "data": {
            "text/plain": "array([-0.40930284, -0.1119171 , -1.20503588,  0.0733258 ,  0.58393779,\n       -0.74136596,  0.40505354,  0.18175886,  0.19230511, -1.94549305])"
          },
          "metadata": {}
        }
      ]
    },
    {
      "cell_type": "code",
      "source": "#standard local districution is the mean and scale is the standard devation\nnorm.cdf(5,loc=1,scale=2)",
      "metadata": {
        "trusted": true
      },
      "execution_count": 52,
      "outputs": [
        {
          "execution_count": 52,
          "output_type": "execute_result",
          "data": {
            "text/plain": "0.9772498680518208"
          },
          "metadata": {}
        }
      ]
    },
    {
      "cell_type": "code",
      "source": "norm.pdf(9,loc=0,scale=1)",
      "metadata": {
        "trusted": true
      },
      "execution_count": 53,
      "outputs": [
        {
          "execution_count": 53,
          "output_type": "execute_result",
          "data": {
            "text/plain": "1.0279773571668917e-18"
          },
          "metadata": {}
        }
      ]
    },
    {
      "cell_type": "code",
      "source": "",
      "metadata": {},
      "execution_count": null,
      "outputs": []
    },
    {
      "cell_type": "code",
      "source": "",
      "metadata": {},
      "execution_count": null,
      "outputs": []
    }
  ]
}