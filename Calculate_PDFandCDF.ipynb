{
  "metadata": {
    "language_info": {
      "codemirror_mode": {
        "name": "python",
        "version": 3
      },
      "file_extension": ".py",
      "mimetype": "text/x-python",
      "name": "python",
      "nbconvert_exporter": "python",
      "pygments_lexer": "ipython3",
      "version": "3.8"
    },
    "kernelspec": {
      "name": "python",
      "display_name": "Pyolite",
      "language": "python"
    }
  },
  "nbformat_minor": 4,
  "nbformat": 4,
  "cells": [
    {
      "cell_type": "code",
      "source": "from scipy.stats import norm",
      "metadata": {
        "trusted": true
      },
      "execution_count": 1,
      "outputs": []
    },
    {
      "cell_type": "code",
      "source": "norm.rvs(loc=0,scale=1,size=20) # define 20 random variables",
      "metadata": {
        "trusted": true
      },
      "execution_count": 2,
      "outputs": [
        {
          "execution_count": 2,
          "output_type": "execute_result",
          "data": {
            "text/plain": "array([ 1.2679616 ,  0.06412849, -0.31163126,  0.8314614 , -1.47844166,\n        0.49235508, -0.77562512, -1.14438132, -1.07579394, -0.41097261,\n        1.20712747, -0.44261138,  0.22426726,  0.68658918, -0.73052193,\n       -0.03815977,  0.14073205, -1.2848568 , -0.79788096, -1.15945945])"
          },
          "metadata": {}
        }
      ]
    },
    {
      "cell_type": "code",
      "source": "#perform CDF for random var = 10 , loc= 1 , scale=3\nnorm.cdf(10,loc=1,scale=3)",
      "metadata": {
        "trusted": true
      },
      "execution_count": 3,
      "outputs": [
        {
          "execution_count": 3,
          "output_type": "execute_result",
          "data": {
            "text/plain": "0.9986501019683699"
          },
          "metadata": {}
        }
      ]
    },
    {
      "cell_type": "code",
      "source": "#perform PDF for random var = 14 , loc= 1 , scale=1\nnorm.cdf(14,loc=1,scale=1)",
      "metadata": {
        "trusted": true
      },
      "execution_count": 4,
      "outputs": [
        {
          "execution_count": 4,
          "output_type": "execute_result",
          "data": {
            "text/plain": "1.0"
          },
          "metadata": {}
        }
      ]
    },
    {
      "cell_type": "code",
      "source": "",
      "metadata": {},
      "execution_count": null,
      "outputs": []
    }
  ]
}